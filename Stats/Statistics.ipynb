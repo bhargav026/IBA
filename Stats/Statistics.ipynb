{
 "cells": [
  {
   "cell_type": "markdown",
   "id": "07ca3a90",
   "metadata": {},
   "source": [
    "# Q-1. \n",
    "A university wants to understand the relationship between the SAT scores of its\n",
    "applicants and their college GPA. They collect data on 500 students, including their SAT\n",
    "scores (out of 1600) and their college GPA (on a 4.0 scale). They find that the correlation\n",
    "coefficient between SAT scores and college GPA is 0.7. What does this correlation\n",
    "coefficient indicate about the relationship between SAT scores and college GPA?"
   ]
  },
  {
   "cell_type": "markdown",
   "id": "b61276f3",
   "metadata": {},
   "source": [
    "# Ans.\n",
    "The correlation coefficient is 0.7. it is positive value, it means the relation between SAT score and college GPA is having a linear realtionship +ve slope (As SAT increases GPA will increases). As the corelation coeffient is close to 1 but not 1 represents that they closely relate with each other for many cases but not for all"
   ]
  },
  {
   "cell_type": "code",
   "execution_count": null,
   "id": "15211a8c",
   "metadata": {},
   "outputs": [],
   "source": []
  },
  {
   "cell_type": "markdown",
   "id": "581c8ed1",
   "metadata": {},
   "source": [
    "# Q-2.\n",
    "Consider a dataset containing the heights (in centimeters) of 1000 individuals. The\n",
    "mean height is 170 cm with a standard deviation of 10 cm. The dataset is approximately\n",
    "normally distributed, and its skewness is approximately zero. Based on this information,\n",
    "\n",
    "answer the following questions:\n",
    "\n",
    "a. What percentage of individuals in the dataset have heights between 160 cm\n",
    "and 180 cm?\n",
    "\n",
    "b. If we randomly select 100 individuals from the dataset, what is the probability\n",
    "that their average height is greater than 175 cm?\n",
    "\n",
    "c. Assuming the dataset follows a normal distribution, what is the z-score\n",
    "corresponding to a height of 185 cm?\n",
    "\n",
    "d. We know that 5% of the dataset has heights below a certain value. What is\n",
    "the approximate height corresponding to this threshold?\n",
    "\n",
    "e. Calculate the coefficient of variation (CV) for the dataset.\n",
    "\n",
    "f. Calculate the skewness of the dataset and interpret the result."
   ]
  },
  {
   "attachments": {
    "normal_distribution_500x263.jpg": {
     "image/jpeg": "[encoded data removed]"
    }
   },
   "cell_type": "markdown",
   "id": "8d68c2ac",
   "metadata": {},
   "source": [
    "# Ans.\n",
    "\n",
    "## a.\n",
    "The percentage of individuals in the dataset have heights between 160 cm and 180 cm is nothing but the gaussian curve having the area under $ \\pm \\sigma $ as $ \\mu = 170\\sigma = 10$. \n",
    "![normal_distribution_500x263.jpg](attachment:normal_distribution_500x263.jpg)\n",
    "\n",
    "By oberseving the above plot, we know that approx 68.2% people are having the height between 160 to 180cm\n",
    "\n",
    "## b.\n",
    "population mean  = 170\n",
    "\n",
    "sample mean  = 175\n",
    "\n",
    "sample standard devation = $\\frac{\\sigma}  {\\sqrt(size \\,of \\,  sample)}$ = $\\frac {10}{\\sqrt(100)}$ = 1cm\n",
    "\n",
    "We can convert the problem to the standard normal distribution by calculating the Z-score for a sample mean of 175 cm with sample standard devation = 1:\n",
    "\n",
    "caculating z score = $ Z = \\frac{(X - μ)}{σ} = (175 - 170) / 1 = 5$\n",
    "\n",
    "At Z= 5, the prob is $\\approx 0$\n",
    "i.e for randomly selected 100 individuals , having mean height gre=ateer than 175cm is $\\approx 0$\n",
    "\n",
    "## c.\n",
    "\n",
    "$ Z = \\frac{(X - μ)}{σ} = \\frac{185-170}{10} = 1.5 $\n",
    "\n",
    "## d.\n",
    "From Z-table the Z-score that corresponds to a cumulative probability of 0.05 is approximately Z = -1.645.\n",
    "\n",
    "Using the Z -= -1.645 and above Z formula we can get X =153.55cm\n",
    "\n",
    "## e.\n",
    "The coefficient of variation (CV) is a measure of relative variability and is calculated as the ratio of the standard deviation (σ) to the mean (μ), expressed as a percentage.\n",
    "\n",
    "$ CV = \\frac{σ}{ μ} * 100 $\n",
    "\n",
    "Given that the dataset has a mean of 170 cm and a standard deviation of 10 cm, we can calculate the coefficient of variation (CV) as follows:\n",
    "\n",
    "$ CV = \\frac{10}{ 170} * 100 $\n",
    "\n",
    "CV ≈ 5.88%\n",
    "\n",
    "Therefore, the coefficient of variation for the dataset is approximately 5.88%.\n",
    "\n",
    "## f. \n",
    "For calculatin we need skewness we need meadian which is not avilable and as per given data dataset skewness is approx zero. i.e the dataset is symmetrically distributed around its mean."
   ]
  },
  {
   "cell_type": "code",
   "execution_count": null,
   "id": "e8647dc5",
   "metadata": {},
   "outputs": [],
   "source": []
  },
  {
   "cell_type": "markdown",
   "id": "9ca6a1ea",
   "metadata": {},
   "source": [
    "# Q-3. \n",
    "Consider the ‘Blood Pressure Before’ and ‘Blood Pressure After’ columns from the\n",
    "data and calculate the following\n",
    "\n",
    "https://drive.google.com/file/d/1mCjtYHiX--mMUjicuaP2gH3k-SnFxt8Y/view?usp=share_\n",
    "\n",
    "a. Measure the dispersion in both and interpret the results.\n",
    "\n",
    "b. Calculate mean and 5% confidence interval and plot it in a graph\n",
    "\n",
    "c. Calculate the Mean absolute deviation and Standard deviation and interpret\n",
    "the results.\n",
    "\n",
    "d. Calculate the correlation coefficient and check the significance of it at 1% level\n",
    "of significance."
   ]
  },
  {
   "cell_type": "code",
   "execution_count": 67,
   "id": "c733c5d8",
   "metadata": {},
   "outputs": [
    {
     "data": {
      "text/html": [
       "<div>\n",
       "<style scoped>\n",
       "    .dataframe tbody tr th:only-of-type {\n",
       "        vertical-align: middle;\n",
       "    }\n",
       "\n",
       "    .dataframe tbody tr th {\n",
       "        vertical-align: top;\n",
       "    }\n",
       "\n",
       "    .dataframe thead th {\n",
       "        text-align: right;\n",
       "    }\n",
       "</style>\n",
       "<table border=\"1\" class=\"dataframe\">\n",
       "  <thead>\n",
       "    <tr style=\"text-align: right;\">\n",
       "      <th></th>\n",
       "      <th>Patient ID</th>\n",
       "      <th>Blood Pressure Before (mmHg)</th>\n",
       "      <th>Blood Pressure After (mmHg)</th>\n",
       "    </tr>\n",
       "  </thead>\n",
       "  <tbody>\n",
       "    <tr>\n",
       "      <th>0</th>\n",
       "      <td>1</td>\n",
       "      <td>130</td>\n",
       "      <td>120</td>\n",
       "    </tr>\n",
       "    <tr>\n",
       "      <th>1</th>\n",
       "      <td>2</td>\n",
       "      <td>142</td>\n",
       "      <td>135</td>\n",
       "    </tr>\n",
       "    <tr>\n",
       "      <th>2</th>\n",
       "      <td>3</td>\n",
       "      <td>120</td>\n",
       "      <td>118</td>\n",
       "    </tr>\n",
       "    <tr>\n",
       "      <th>3</th>\n",
       "      <td>4</td>\n",
       "      <td>135</td>\n",
       "      <td>127</td>\n",
       "    </tr>\n",
       "    <tr>\n",
       "      <th>4</th>\n",
       "      <td>5</td>\n",
       "      <td>148</td>\n",
       "      <td>140</td>\n",
       "    </tr>\n",
       "  </tbody>\n",
       "</table>\n",
       "</div>"
      ],
      "text/plain": [
       "   Patient ID   Blood Pressure Before (mmHg)   Blood Pressure After (mmHg)\n",
       "0           1                            130                           120\n",
       "1           2                            142                           135\n",
       "2           3                            120                           118\n",
       "3           4                            135                           127\n",
       "4           5                            148                           140"
      ]
     },
     "execution_count": 67,
     "metadata": {},
     "output_type": "execute_result"
    }
   ],
   "source": [
    "import pandas as pd\n",
    "import numpy as np\n",
    "data = pd.read_csv('blood pressure data.csv')\n",
    "data.head()"
   ]
  },
  {
   "cell_type": "code",
   "execution_count": 68,
   "id": "7395a68b",
   "metadata": {},
   "outputs": [],
   "source": [
    "data =data.drop('Patient ID', axis = 1)"
   ]
  },
  {
   "cell_type": "code",
   "execution_count": 69,
   "id": "67e635e1",
   "metadata": {},
   "outputs": [
    {
     "data": {
      "text/html": [
       "<div>\n",
       "<style scoped>\n",
       "    .dataframe tbody tr th:only-of-type {\n",
       "        vertical-align: middle;\n",
       "    }\n",
       "\n",
       "    .dataframe tbody tr th {\n",
       "        vertical-align: top;\n",
       "    }\n",
       "\n",
       "    .dataframe thead th {\n",
       "        text-align: right;\n",
       "    }\n",
       "</style>\n",
       "<table border=\"1\" class=\"dataframe\">\n",
       "  <thead>\n",
       "    <tr style=\"text-align: right;\">\n",
       "      <th></th>\n",
       "      <th>Blood Pressure Before (mmHg)</th>\n",
       "      <th>Blood Pressure After (mmHg)</th>\n",
       "    </tr>\n",
       "  </thead>\n",
       "  <tbody>\n",
       "    <tr>\n",
       "      <th>count</th>\n",
       "      <td>100.000000</td>\n",
       "      <td>100.000000</td>\n",
       "    </tr>\n",
       "    <tr>\n",
       "      <th>mean</th>\n",
       "      <td>133.910000</td>\n",
       "      <td>128.360000</td>\n",
       "    </tr>\n",
       "    <tr>\n",
       "      <th>std</th>\n",
       "      <td>6.598278</td>\n",
       "      <td>6.888022</td>\n",
       "    </tr>\n",
       "    <tr>\n",
       "      <th>min</th>\n",
       "      <td>120.000000</td>\n",
       "      <td>118.000000</td>\n",
       "    </tr>\n",
       "    <tr>\n",
       "      <th>25%</th>\n",
       "      <td>128.000000</td>\n",
       "      <td>123.000000</td>\n",
       "    </tr>\n",
       "    <tr>\n",
       "      <th>50%</th>\n",
       "      <td>135.000000</td>\n",
       "      <td>128.000000</td>\n",
       "    </tr>\n",
       "    <tr>\n",
       "      <th>75%</th>\n",
       "      <td>139.250000</td>\n",
       "      <td>135.000000</td>\n",
       "    </tr>\n",
       "    <tr>\n",
       "      <th>max</th>\n",
       "      <td>148.000000</td>\n",
       "      <td>141.000000</td>\n",
       "    </tr>\n",
       "  </tbody>\n",
       "</table>\n",
       "</div>"
      ],
      "text/plain": [
       "        Blood Pressure Before (mmHg)   Blood Pressure After (mmHg)\n",
       "count                     100.000000                    100.000000\n",
       "mean                      133.910000                    128.360000\n",
       "std                         6.598278                      6.888022\n",
       "min                       120.000000                    118.000000\n",
       "25%                       128.000000                    123.000000\n",
       "50%                       135.000000                    128.000000\n",
       "75%                       139.250000                    135.000000\n",
       "max                       148.000000                    141.000000"
      ]
     },
     "execution_count": 69,
     "metadata": {},
     "output_type": "execute_result"
    }
   ],
   "source": [
    "data.describe()"
   ]
  },
  {
   "cell_type": "code",
   "execution_count": 7,
   "id": "5624319c",
   "metadata": {},
   "outputs": [
    {
     "data": {
      "text/plain": [
       "Patient ID                       833.2500\n",
       " Blood Pressure Before (mmHg)     43.1019\n",
       " Blood Pressure After (mmHg)      46.9704\n",
       "dtype: float64"
      ]
     },
     "execution_count": 7,
     "metadata": {},
     "output_type": "execute_result"
    }
   ],
   "source": [
    "np.var(data)"
   ]
  },
  {
   "cell_type": "markdown",
   "id": "59f723ba",
   "metadata": {},
   "source": [
    "## a.\n",
    "By above observations \n",
    "\n",
    "$ std_{Blood Pressure Before} = 6.598278 $ ,\n",
    "\n",
    "$std_{Blood Pressure After} =6.888022 $\n",
    "\n",
    "The standard deviation measures the spread or dispersion of the data around the mean. In this case, we have the standard deviation for blood pressure before and after. Comparing the two values, we can see that the std for blood pressure after is 6.888022 is slightly higher than the std before 6.598278. This suggests that there might be a slightly higher variability in blood pressure measurements after the event.\n"
   ]
  },
  {
   "cell_type": "code",
   "execution_count": 18,
   "id": "747cbd0b",
   "metadata": {},
   "outputs": [
    {
     "data": {
      "text/plain": [
       " Blood Pressure Before (mmHg)    133.91\n",
       " Blood Pressure After (mmHg)     128.36\n",
       "dtype: float64"
      ]
     },
     "execution_count": 18,
     "metadata": {},
     "output_type": "execute_result"
    }
   ],
   "source": [
    "np.mean(data)"
   ]
  },
  {
   "cell_type": "markdown",
   "id": "aea283b5",
   "metadata": {},
   "source": [
    "## b"
   ]
  },
  {
   "cell_type": "code",
   "execution_count": 22,
   "id": "8095208c",
   "metadata": {},
   "outputs": [
    {
     "data": {
      "image/png": "[encoded data removed]",
      "text/plain": [
       "<Figure size 640x480 with 1 Axes>"
      ]
     },
     "metadata": {},
     "output_type": "display_data"
    },
    {
     "name": "stdout",
     "output_type": "stream",
     "text": [
      "Confidence Interval (5%): 3.680462862630282 to 7.419537137369684\n"
     ]
    }
   ],
   "source": [
    "import numpy as np\n",
    "import matplotlib.pyplot as plt\n",
    "\n",
    "# Constants\n",
    "mean_before = 133.91\n",
    "mean_after = 128.36\n",
    "std_before = 6.598278\n",
    "std_after = 6.888022\n",
    "n = 100  # Sample size\n",
    "\n",
    "# Calculate the standard error\n",
    "se = np.sqrt((std_before**2/n) + (std_after**2/n))\n",
    "\n",
    "# Calculate the margin of error (5% confidence level, two-tailed test)\n",
    "z = 1.96  # Z-score for 95% confidence interval\n",
    "margin_error = z * se\n",
    "\n",
    "# Calculate the confidence interval\n",
    "lower_bound = mean_before - mean_after - margin_error\n",
    "upper_bound = mean_before - mean_after + margin_error\n",
    "\n",
    "# Plotting\n",
    "plt.figure()\n",
    "plt.errorbar(0, mean_before - mean_after, yerr=margin_error, fmt='o')\n",
    "plt.axhline(y=0, color='r', linestyle='--')\n",
    "plt.xticks([])\n",
    "plt.ylabel('Mean Difference (mmHg)')\n",
    "plt.title('5% Confidence Interval for Mean Difference')\n",
    "plt.show()\n",
    "\n",
    "# Display the confidence interval\n",
    "print(\"Confidence Interval (5%):\", lower_bound, \"to\", upper_bound)\n"
   ]
  },
  {
   "cell_type": "markdown",
   "id": "96f3237b",
   "metadata": {},
   "source": [
    "## c"
   ]
  },
  {
   "cell_type": "code",
   "execution_count": 26,
   "id": "5add4255",
   "metadata": {},
   "outputs": [
    {
     "name": "stdout",
     "output_type": "stream",
     "text": [
      "Mean Absolute Deviation (MAD): \n",
      "  Blood Pressure Before (mmHg)    5.7118\n",
      " Blood Pressure After (mmHg)     5.9000\n",
      "dtype: float64\n",
      "Standard Deviation (SD):\n",
      "  Blood Pressure Before (mmHg)    6.565204\n",
      " Blood Pressure After (mmHg)     6.853495\n",
      "dtype: float64\n"
     ]
    }
   ],
   "source": [
    "# Calculate mean\n",
    "mean = np.mean(data)\n",
    "\n",
    "# Calculate mean absolute deviation (MAD)\n",
    "mad = np.mean(np.abs(data - mean))\n",
    "\n",
    "# Calculate standard deviation (SD)\n",
    "sd = np.std(data, ddof=0)  # ddof=0 for population standard deviation, ddof=1 for sample standard deviation\n",
    "\n",
    "# Print the results\n",
    "print(\"Mean Absolute Deviation (MAD): \\n\", mad)\n",
    "print(\"Standard Deviation (SD):\\n\", sd)\n"
   ]
  },
  {
   "cell_type": "markdown",
   "id": "30ece8b2",
   "metadata": {},
   "source": [
    "The interpretation of the MAD and SD results for the 'Blood Pressure Before' and 'Blood Pressure After' measurements are:\n",
    "\n",
    "1. Mean Absolute Deviation (MAD):\n",
    "   - The MAD represents the average absolute deviation of the data points from the mean.\n",
    "   - A lower MAD value suggests that the data points are, on average, closer to the mean.\n",
    "   - For the 'Blood Pressure Before' measurement,on average, the blood pressure values deviate from the mean by around 5.7118 mmHg.\n",
    "   - For the 'Blood Pressure After' measurement, on average, the blood pressure values deviate from the mean by around 5.9000 mmHg.\n",
    "   \n",
    "2. Standard Deviation (SD):\n",
    "   - The SD measures the dispersion or spread of the data points around the mean.\n",
    "   - A higher SD value suggests a wider spread or greater variability in the data points.\n",
    "   \n",
    "Based on these interpretations, we can conclude that both the 'Blood Pressure Before' and 'Blood Pressure After' measurements have a moderate level of deviation and variability around their respective means."
   ]
  },
  {
   "cell_type": "code",
   "execution_count": null,
   "id": "1073e104",
   "metadata": {},
   "outputs": [],
   "source": []
  },
  {
   "cell_type": "markdown",
   "id": "99e7ef68",
   "metadata": {},
   "source": [
    "## d."
   ]
  },
  {
   "cell_type": "code",
   "execution_count": 32,
   "id": "7d942e3c",
   "metadata": {},
   "outputs": [
    {
     "name": "stdout",
     "output_type": "stream",
     "text": [
      "Correlation Coefficient: 0.9779485966556017\n",
      "p-value: 1.8097381433072956e-68\n",
      "Significance at 1% level: Significant correlation\n"
     ]
    }
   ],
   "source": [
    "from scipy.stats import pearsonr\n",
    "\n",
    "# Calculate the correlation coefficient and p-value\n",
    "corr_coef, p_value = pearsonr(data[' Blood Pressure Before (mmHg)'], data[' Blood Pressure After (mmHg)'])\n",
    "\n",
    "# Check significance at 1% level\n",
    "if p_value < 0.01:\n",
    "    significance = \"Significant correlation\"\n",
    "else:\n",
    "    significance = \"No significant correlation\"\n",
    "\n",
    "print(\"Correlation Coefficient:\", corr_coef)\n",
    "print(\"p-value:\", p_value)\n",
    "print(\"Significance at 1% level:\", significance)\n"
   ]
  },
  {
   "cell_type": "code",
   "execution_count": null,
   "id": "b636c0b3",
   "metadata": {},
   "outputs": [],
   "source": []
  },
  {
   "cell_type": "markdown",
   "id": "66b6109d",
   "metadata": {},
   "source": [
    "# Q-4. \n",
    "A group of 20 friends decide to play a game in which they each write a number\n",
    "between 1 and 20 on a slip of paper and put it into a hat. They then draw one slip of paper\n",
    "at random. What is the probability that the number on the slip of paper is a perfect square\n",
    "(i.e., 1, 4, 9, or 16)?\n",
    "\n",
    "## Ans.\n",
    "total no of slips in hat = 20\n",
    "\n",
    "we have only 4 (1, 4, 9, or 16) options to draw a perfect square from 20 slips \n",
    "\n",
    "so the probability that the number on the slip of paper is a perfect square is = $\\frac{4}{16} = 0.2$"
   ]
  },
  {
   "cell_type": "markdown",
   "id": "8a0f3901",
   "metadata": {},
   "source": [
    "by considering each person can  write any number between 1-20 then the total possible combinations are 20**20.\n",
    "\n",
    "then the favorable possible combinations are below\n",
    "\n",
    "  - only one person has written perfect square and remaining has written any other numbers then probability is 1/20 \n",
    "    \n",
    "  - two persons has written perfect squares and remaining has written other numbers then probability is 2/20 \n",
    "    \n",
    "  \n",
    " - and so\n",
    "    \n",
    "probability = (product of all favorable combinations)/20**20 and combinations\n",
    "\n",
    "(20!)/20**20 = 2.32019615953125e-08\n",
    "\n"
   ]
  },
  {
   "cell_type": "code",
   "execution_count": null,
   "id": "2e2ef10c",
   "metadata": {},
   "outputs": [],
   "source": []
  },
  {
   "cell_type": "markdown",
   "id": "15c3218d",
   "metadata": {},
   "source": [
    "# Q-5. \n",
    "A certain city has two taxi companies: Company A has 80% of the taxis and\n",
    "Company B has 20% of the taxis. Company A's taxis have a 95% success rate for picking\n",
    "up passengers on time, while Company B's taxis have a 90% success rate. If a randomly\n",
    "selected taxi is late, what is the probability that it belongs to Company A?\n",
    "\n",
    "## Ans.\n",
    "prob of taxi belongs to company A  = p(A) = 0.8\n",
    "\n",
    "prob of taxi belongs to company B  = p(B) = 0.2\n",
    "\n",
    "Sucessrate of pickup passesnger given taxi belongs to company A = p(S/A) = 0.95\n",
    "\n",
    "from this fail rate of picking up passesnger given taxi is company A = p(F/A)= 1-p(S/A) = 0.05\n",
    "\n",
    "Sucessrate of pickup passesnger given taxi belongs to company B = p(S/B) = 0.90\n",
    "\n",
    "from this fail rate of picking up passesnger given taxi is company B = p(F/B)= 1-p(S/B) = 0.05\n",
    "\n",
    "prob of taxi is late and it belongs to Company A is : using bayes = p(A/F)\n",
    "\n",
    "According to Bayes' theorem:\n",
    "P(A|F) = (P(F|A) * P(A)) / P(F)\n",
    "\n",
    "P(F) = P(F|A) * P(A) + P(F|B) * P(B) = (0.05 * 0.80) + (0.10 * 0.20) = 0.06\n",
    "\n",
    "P(A|F) = (P(F|A) * P(A)) / P(F) = ( 0.05 * 0.8) / 0.06 = 0.66 = 66.6%"
   ]
  },
  {
   "cell_type": "code",
   "execution_count": null,
   "id": "44e619cb",
   "metadata": {},
   "outputs": [],
   "source": []
  },
  {
   "cell_type": "markdown",
   "id": "79284af1",
   "metadata": {},
   "source": [
    "# Q-6. \n",
    "A pharmaceutical company is developing a drug that is supposed to reduce blood\n",
    "pressure. They conduct a clinical trial with 100 patients and record their blood\n",
    "pressure before and after taking the drug. The company wants to know if the change\n",
    "in blood pressure follows a normal distribution.\n",
    "\n",
    "https://drive.google.com/file/d/1mCjtYHiX--mMUjicuaP2gH3k-SnFxt8Y/view?usp=share_"
   ]
  },
  {
   "cell_type": "code",
   "execution_count": 66,
   "id": "ce3f56f6",
   "metadata": {},
   "outputs": [
    {
     "data": {
      "text/plain": [
       "[1, 2, 2, 3, 4, 4, 4, 5, 5, 6, 7, 8, 8, 9]"
      ]
     },
     "execution_count": 66,
     "metadata": {},
     "output_type": "execute_result"
    }
   ],
   "source": [
    "data"
   ]
  },
  {
   "cell_type": "code",
   "execution_count": 70,
   "id": "102f8339",
   "metadata": {},
   "outputs": [
    {
     "data": {
      "image/png": "[encoded data removed]",
      "text/plain": [
       "<Figure size 640x480 with 1 Axes>"
      ]
     },
     "metadata": {},
     "output_type": "display_data"
    }
   ],
   "source": [
    "import seaborn as sns\n",
    "\n",
    "# Plot histogram with KDE\n",
    "sns.histplot(data[' Blood Pressure Before (mmHg)'], kde=True)\n",
    "\n",
    "# Add labels and title\n",
    "plt.xlabel('Value')\n",
    "plt.ylabel('Frequency')\n",
    "plt.title('Histogram with KDE')\n",
    "\n",
    "# Display the plot\n",
    "plt.show()\n"
   ]
  },
  {
   "cell_type": "code",
   "execution_count": 76,
   "id": "ae8f99ab",
   "metadata": {},
   "outputs": [
    {
     "name": "stdout",
     "output_type": "stream",
     "text": [
      "Shapiro-Wilk Test Statistic: 0.9400556683540344\n",
      "P-value: 0.00019430516113061458\n",
      "it does not follow normal disrtibution\n"
     ]
    }
   ],
   "source": [
    "'''From this graph we can not conlude the whether it is following the normal distibution or not. \n",
    "So we can approch some statistical methods to check normality. Among them Shapiro-Wilk Test is one\n",
    "the Shapiro-Wilk test, which is a statistical test to assess normality. \n",
    "The test provides a p-value, and if the p-value is greater than the chosen significance level (e.g., 0.05),\n",
    "the data can be considered normally distributed..\n",
    "'''\n",
    "from scipy import stats\n",
    "\n",
    "# Perform Shapiro-Wilk test\n",
    "statistic, p_value = stats.shapiro(data[' Blood Pressure After (mmHg)'])\n",
    "\n",
    "# Print the test statistic and p-value\n",
    "print(\"Shapiro-Wilk Test Statistic:\", statistic)\n",
    "print(\"P-value:\", p_value)\n",
    "\n",
    "if p_value>0.05:\n",
    "    print('Blood Pressure After follows a normal distribution')\n",
    "else:\n",
    "    print('it does not follow normal disrtibution')\n",
    "\n"
   ]
  },
  {
   "cell_type": "code",
   "execution_count": null,
   "id": "c1953e58",
   "metadata": {},
   "outputs": [],
   "source": []
  },
  {
   "cell_type": "markdown",
   "id": "dd2de91f",
   "metadata": {},
   "source": [
    "# Q-7. \n",
    "The equations of two lines of regression, obtained in a correlation analysis\n",
    "between variables X and Y are as follows:\n",
    "\n",
    "and . \n",
    "\n",
    "    2X + 3 − 8 = 0 \n",
    "\n",
    "    2Y + X − 5 = 0 \n",
    "The variance of X = 4 Find the\n",
    "\n",
    "a. Variance of Y\n",
    "\n",
    "b. Coefficient of determination of C and Y\n",
    "\n",
    "c. Standard error of estimate of X on Y and of Y on X."
   ]
  },
  {
   "cell_type": "markdown",
   "id": "c6689ce7",
   "metadata": {},
   "source": [
    "## Ans.\n",
    "### a. \n",
    "from eqn(2) Y = (5-X) / 2\n",
    "\n",
    "we know var(X) = 4\n",
    "\n",
    "var(aX+b) = a^2*var(X)\n",
    "\n",
    "using above formula var(Y) = 1/4 * 4 = 1 "
   ]
  },
  {
   "cell_type": "code",
   "execution_count": null,
   "id": "38a4d312",
   "metadata": {},
   "outputs": [],
   "source": []
  },
  {
   "cell_type": "markdown",
   "id": "95f841b7",
   "metadata": {},
   "source": [
    "# Q-8. \n",
    "The anxiety levels of 10 participants were measured before and after a new therapy.\n",
    "The scores are not normally distributed. Use the Wilcoxon signed-rank test to test whether\n",
    "the therapy had a significant effect on anxiety levels. The data is given below: Participant\n",
    "Before therapy After therapy Difference"
   ]
  },
  {
   "cell_type": "code",
   "execution_count": 83,
   "id": "fc85ab4d",
   "metadata": {},
   "outputs": [],
   "source": [
    "patient_data = pd.DataFrame([1,2,3,4,5,6,7,8,9,10], columns=['Participant'])\n",
    "patient_data['Before therapy'] = pd.DataFrame([10,8,12,15,6,9,11,7,14,10])\n",
    "patient_data['After therapy'] = pd.DataFrame([7,6,10,12,5,8,9,6,12,8])\n",
    "patient_data['Difference'] = pd.DataFrame([-3,-2,-2,-3,-1,-1,-2,-1,-2,-2])"
   ]
  },
  {
   "cell_type": "code",
   "execution_count": 84,
   "id": "42e48aab",
   "metadata": {},
   "outputs": [
    {
     "data": {
      "text/html": [
       "<div>\n",
       "<style scoped>\n",
       "    .dataframe tbody tr th:only-of-type {\n",
       "        vertical-align: middle;\n",
       "    }\n",
       "\n",
       "    .dataframe tbody tr th {\n",
       "        vertical-align: top;\n",
       "    }\n",
       "\n",
       "    .dataframe thead th {\n",
       "        text-align: right;\n",
       "    }\n",
       "</style>\n",
       "<table border=\"1\" class=\"dataframe\">\n",
       "  <thead>\n",
       "    <tr style=\"text-align: right;\">\n",
       "      <th></th>\n",
       "      <th>Participant</th>\n",
       "      <th>Before therapy</th>\n",
       "      <th>After therapy</th>\n",
       "      <th>Difference</th>\n",
       "    </tr>\n",
       "  </thead>\n",
       "  <tbody>\n",
       "    <tr>\n",
       "      <th>0</th>\n",
       "      <td>1</td>\n",
       "      <td>10</td>\n",
       "      <td>7</td>\n",
       "      <td>-3</td>\n",
       "    </tr>\n",
       "    <tr>\n",
       "      <th>1</th>\n",
       "      <td>2</td>\n",
       "      <td>8</td>\n",
       "      <td>6</td>\n",
       "      <td>-2</td>\n",
       "    </tr>\n",
       "    <tr>\n",
       "      <th>2</th>\n",
       "      <td>3</td>\n",
       "      <td>12</td>\n",
       "      <td>10</td>\n",
       "      <td>-2</td>\n",
       "    </tr>\n",
       "    <tr>\n",
       "      <th>3</th>\n",
       "      <td>4</td>\n",
       "      <td>15</td>\n",
       "      <td>12</td>\n",
       "      <td>-3</td>\n",
       "    </tr>\n",
       "    <tr>\n",
       "      <th>4</th>\n",
       "      <td>5</td>\n",
       "      <td>6</td>\n",
       "      <td>5</td>\n",
       "      <td>-1</td>\n",
       "    </tr>\n",
       "    <tr>\n",
       "      <th>5</th>\n",
       "      <td>6</td>\n",
       "      <td>9</td>\n",
       "      <td>8</td>\n",
       "      <td>-1</td>\n",
       "    </tr>\n",
       "    <tr>\n",
       "      <th>6</th>\n",
       "      <td>7</td>\n",
       "      <td>11</td>\n",
       "      <td>9</td>\n",
       "      <td>-2</td>\n",
       "    </tr>\n",
       "    <tr>\n",
       "      <th>7</th>\n",
       "      <td>8</td>\n",
       "      <td>7</td>\n",
       "      <td>6</td>\n",
       "      <td>-1</td>\n",
       "    </tr>\n",
       "    <tr>\n",
       "      <th>8</th>\n",
       "      <td>9</td>\n",
       "      <td>14</td>\n",
       "      <td>12</td>\n",
       "      <td>-2</td>\n",
       "    </tr>\n",
       "    <tr>\n",
       "      <th>9</th>\n",
       "      <td>10</td>\n",
       "      <td>10</td>\n",
       "      <td>8</td>\n",
       "      <td>-2</td>\n",
       "    </tr>\n",
       "  </tbody>\n",
       "</table>\n",
       "</div>"
      ],
      "text/plain": [
       "   Participant  Before therapy  After therapy  Difference\n",
       "0            1              10              7          -3\n",
       "1            2               8              6          -2\n",
       "2            3              12             10          -2\n",
       "3            4              15             12          -3\n",
       "4            5               6              5          -1\n",
       "5            6               9              8          -1\n",
       "6            7              11              9          -2\n",
       "7            8               7              6          -1\n",
       "8            9              14             12          -2\n",
       "9           10              10              8          -2"
      ]
     },
     "execution_count": 84,
     "metadata": {},
     "output_type": "execute_result"
    }
   ],
   "source": [
    "patient_data"
   ]
  },
  {
   "cell_type": "code",
   "execution_count": 86,
   "id": "f9154f07",
   "metadata": {},
   "outputs": [
    {
     "name": "stdout",
     "output_type": "stream",
     "text": [
      "p value: 0.001953125\n",
      "Therapy showed significant effect \n"
     ]
    }
   ],
   "source": [
    "from scipy.stats import wilcoxon\n",
    "\n",
    "'''The null hypothesis of the test is that there is no significant difference between the paired samples. \n",
    "If the p-value is less than the chosen significance level (e.g., 0.05), we reject the null hypothesis, suggesting that there is a significant difference between the paired samples.'''\n",
    "\n",
    "statistic, p_value = wilcoxon(patient_data['Before therapy'], patient_data['After therapy'])\n",
    "\n",
    "print('p value:'  , p_value)\n",
    "if p_value >0.05:\n",
    "    print('No significant effect of therapy')\n",
    "else:\n",
    "    print('Therapy showed significant effect ')\n"
   ]
  },
  {
   "cell_type": "code",
   "execution_count": null,
   "id": "bff2aa11",
   "metadata": {},
   "outputs": [],
   "source": []
  },
  {
   "cell_type": "markdown",
   "id": "1317efaf",
   "metadata": {},
   "source": [
    "# Q-9. \n",
    "Given the score of students in multiple exams, Test the hypothesis that the mean scores of all the students are the same. If not, name the\n",
    "student with the highest score."
   ]
  },
  {
   "cell_type": "code",
   "execution_count": 91,
   "id": "f9550f38",
   "metadata": {},
   "outputs": [],
   "source": [
    "students= pd.DataFrame(['Karan', 'Deepa','Karthik', 'Chandan','Jeevan'], columns=['Name'])\n",
    "students['Exam1'] = pd.DataFrame([85,70,90,75,95])\n",
    "students['Exam2'] = pd.DataFrame([90,80,85,70,92])\n",
    "students['Exam3']= pd.DataFrame([92,85,88,75,96])"
   ]
  },
  {
   "cell_type": "code",
   "execution_count": 94,
   "id": "ae3a6d83",
   "metadata": {},
   "outputs": [
    {
     "name": "stdout",
     "output_type": "stream",
     "text": [
      "One-way ANOVA Test Statistic: 0.3236947791164659\n",
      "P-value: 0.7295954253321559\n",
      "There is no significant difference in mean scores among the students.\n"
     ]
    }
   ],
   "source": [
    "from scipy.stats import f_oneway\n",
    "\n",
    "# Perform one-way ANOVA test\n",
    "statistic, p_value = f_oneway(students['Exam1'], students['Exam2'], students['Exam3'])\n",
    "\n",
    "# Print the test statistic and p-value\n",
    "print(\"One-way ANOVA Test Statistic:\", statistic)\n",
    "print(\"P-value:\", p_value)\n",
    "\n",
    "# Determine if the null hypothesis is rejected or not\n",
    "if p_value < 0.05:\n",
    "    print(\"There are significant differences in mean scores among the students.\")\n",
    "    # Find the student with the highest score\n",
    "    students['Mean_Score'] = students[['Exam1', 'Exam2', 'Exam3']].mean(axis=1)\n",
    "    highest_score_student = students.loc[students['Mean_Score'].idxmax(), 'Name']\n",
    "    print(\"Student with the highest score:\", highest_score_student)\n",
    "else:\n",
    "    print(\"There is no significant difference in mean scores among the students.\")"
   ]
  },
  {
   "cell_type": "code",
   "execution_count": null,
   "id": "3c057627",
   "metadata": {},
   "outputs": [],
   "source": []
  },
  {
   "cell_type": "markdown",
   "id": "5566076f",
   "metadata": {},
   "source": [
    "# Q-10. \n",
    "A factory produces light bulbs, and the probability of a bulb being defective is 0.05.\n",
    "\n",
    "The factory produces a large batch of 500 light bulbs.\n",
    "\n",
    "a. What is the probability that exactly 20 bulbs are defective?\n",
    "\n",
    "b. What is the probability that at least 10 bulbs are defective?\n",
    "\n",
    "c. What is the probability that at max 15 bulbs are defective?\n",
    "\n",
    "d. On average, how many defective bulbs would you expect in a batch of 500?"
   ]
  },
  {
   "cell_type": "markdown",
   "id": "8cf0f48a",
   "metadata": {},
   "source": [
    "p(d) = 0.05 # prob of defective\n",
    "\n",
    "p(g) = 0.95 #prob of good  = 1-p(d)\n",
    "\n",
    "n = 500\n",
    "## a.\n",
    "prob of 20 (r) bulbs are defective = $\\binom{n}{r} * p(d)^r * p(g)^{(n-r)}$\n",
    "\n",
    "= $\\binom{500}{20} * 0.05^{20} * 0.95^{480} $\n",
    "\n",
    "= 0.05161619252043368\n"
   ]
  },
  {
   "cell_type": "code",
   "execution_count": 104,
   "id": "eac6d97c",
   "metadata": {},
   "outputs": [
    {
     "name": "stdout",
     "output_type": "stream",
     "text": [
      "Probability of exactly 20 defective bulbs: 0.051616192536641056\n"
     ]
    }
   ],
   "source": [
    "import scipy.stats as stats\n",
    "\n",
    "n = 500  # Total number of bulbs\n",
    "p = 0.05  # Probability of a bulb being defective\n",
    "\n",
    "prob_20_defective = stats.binom.pmf(20, n, p)\n",
    "print(\"Probability of exactly 20 defective bulbs:\", prob_20_defective)"
   ]
  },
  {
   "cell_type": "code",
   "execution_count": 105,
   "id": "2e36a7db",
   "metadata": {},
   "outputs": [
    {
     "name": "stdout",
     "output_type": "stream",
     "text": [
      "Probability of at least 10 defective bulbs: 0.9998316463654902\n"
     ]
    }
   ],
   "source": [
    "prob_at_least_10_defective = 1 - stats.binom.cdf(9, n, p)\n",
    "print(\"Probability of at least 10 defective bulbs:\", prob_at_least_10_defective)"
   ]
  },
  {
   "cell_type": "code",
   "execution_count": 106,
   "id": "cc3d5dd2",
   "metadata": {},
   "outputs": [
    {
     "name": "stdout",
     "output_type": "stream",
     "text": [
      "Probability of at most 15 defective bulbs: 0.01985837716300623\n"
     ]
    }
   ],
   "source": [
    "prob_at_most_15_defective = stats.binom.cdf(15, n, p)\n",
    "print(\"Probability of at most 15 defective bulbs:\", prob_at_most_15_defective)"
   ]
  },
  {
   "cell_type": "code",
   "execution_count": 107,
   "id": "3575cc97",
   "metadata": {},
   "outputs": [
    {
     "name": "stdout",
     "output_type": "stream",
     "text": [
      "Expected number of defective bulbs: 25.0\n"
     ]
    }
   ],
   "source": [
    "expected_defective_bulbs = n * p\n",
    "print(\"Expected number of defective bulbs:\", expected_defective_bulbs)\n"
   ]
  },
  {
   "cell_type": "code",
   "execution_count": null,
   "id": "d101aafe",
   "metadata": {},
   "outputs": [],
   "source": []
  },
  {
   "cell_type": "markdown",
   "id": "86795284",
   "metadata": {},
   "source": [
    "# Q-11.\n",
    "Given the data of a feature contributing to different classes\n",
    "\n",
    "https://drive.google.com/file/d/1mCjtYHiX--mMUjicuaP2gH3k-SnFxt8Y/view?usp=share_\n",
    "\n",
    "a. Check whether the distribution of all the classes are the same or not.\n",
    "\n",
    "b. Check for the equality of variance/\n",
    "\n",
    "c. Which amount LDA and QDA would perform better on this data for\n",
    "classification and why.\n",
    "\n",
    "d. Check the equality of mean for between all the classes."
   ]
  },
  {
   "cell_type": "code",
   "execution_count": 108,
   "id": "6a8ec092",
   "metadata": {},
   "outputs": [
    {
     "data": {
      "text/html": [
       "<div>\n",
       "<style scoped>\n",
       "    .dataframe tbody tr th:only-of-type {\n",
       "        vertical-align: middle;\n",
       "    }\n",
       "\n",
       "    .dataframe tbody tr th {\n",
       "        vertical-align: top;\n",
       "    }\n",
       "\n",
       "    .dataframe thead th {\n",
       "        text-align: right;\n",
       "    }\n",
       "</style>\n",
       "<table border=\"1\" class=\"dataframe\">\n",
       "  <thead>\n",
       "    <tr style=\"text-align: right;\">\n",
       "      <th></th>\n",
       "      <th>Blood Pressure Before (mmHg)</th>\n",
       "      <th>Blood Pressure After (mmHg)</th>\n",
       "    </tr>\n",
       "  </thead>\n",
       "  <tbody>\n",
       "    <tr>\n",
       "      <th>0</th>\n",
       "      <td>130</td>\n",
       "      <td>120</td>\n",
       "    </tr>\n",
       "    <tr>\n",
       "      <th>1</th>\n",
       "      <td>142</td>\n",
       "      <td>135</td>\n",
       "    </tr>\n",
       "    <tr>\n",
       "      <th>2</th>\n",
       "      <td>120</td>\n",
       "      <td>118</td>\n",
       "    </tr>\n",
       "    <tr>\n",
       "      <th>3</th>\n",
       "      <td>135</td>\n",
       "      <td>127</td>\n",
       "    </tr>\n",
       "    <tr>\n",
       "      <th>4</th>\n",
       "      <td>148</td>\n",
       "      <td>140</td>\n",
       "    </tr>\n",
       "    <tr>\n",
       "      <th>...</th>\n",
       "      <td>...</td>\n",
       "      <td>...</td>\n",
       "    </tr>\n",
       "    <tr>\n",
       "      <th>95</th>\n",
       "      <td>136</td>\n",
       "      <td>129</td>\n",
       "    </tr>\n",
       "    <tr>\n",
       "      <th>96</th>\n",
       "      <td>143</td>\n",
       "      <td>137</td>\n",
       "    </tr>\n",
       "    <tr>\n",
       "      <th>97</th>\n",
       "      <td>127</td>\n",
       "      <td>123</td>\n",
       "    </tr>\n",
       "    <tr>\n",
       "      <th>98</th>\n",
       "      <td>139</td>\n",
       "      <td>135</td>\n",
       "    </tr>\n",
       "    <tr>\n",
       "      <th>99</th>\n",
       "      <td>135</td>\n",
       "      <td>130</td>\n",
       "    </tr>\n",
       "  </tbody>\n",
       "</table>\n",
       "<p>100 rows × 2 columns</p>\n",
       "</div>"
      ],
      "text/plain": [
       "     Blood Pressure Before (mmHg)   Blood Pressure After (mmHg)\n",
       "0                             130                           120\n",
       "1                             142                           135\n",
       "2                             120                           118\n",
       "3                             135                           127\n",
       "4                             148                           140\n",
       "..                            ...                           ...\n",
       "95                            136                           129\n",
       "96                            143                           137\n",
       "97                            127                           123\n",
       "98                            139                           135\n",
       "99                            135                           130\n",
       "\n",
       "[100 rows x 2 columns]"
      ]
     },
     "execution_count": 108,
     "metadata": {},
     "output_type": "execute_result"
    }
   ],
   "source": [
    "data"
   ]
  },
  {
   "cell_type": "code",
   "execution_count": 110,
   "id": "8f5f06ba",
   "metadata": {},
   "outputs": [
    {
     "name": "stdout",
     "output_type": "stream",
     "text": [
      "The distribution of classes is not the same.\n",
      "The variances of classes are equal.\n",
      "LDA would perform better for classification.\n",
      "The means of classes are not equal.\n"
     ]
    }
   ],
   "source": [
    "import scipy.stats as stats\n",
    "# Separate the data for each class\n",
    "class_1 = data[' Blood Pressure Before (mmHg)']\n",
    "class_2 = data[' Blood Pressure After (mmHg)']\n",
    "\n",
    "# a. Check whether the distribution of all the classes is the same or not\n",
    "p_value_kruskal = stats.kruskal(class_1, class_2).pvalue #the Kruskal-Wallis test to check if the distributions of the classes are the same.\n",
    "if p_value_kruskal < 0.05:\n",
    "    print(\"The distribution of classes is not the same.\")\n",
    "else:\n",
    "    print(\"The distribution of classes is the same.\")\n",
    "\n",
    "# b. Check for the equality of variance\n",
    "p_value_bartlett = stats.bartlett(class_1, class_2).pvalue # The Bartlett test to check the equality of variances among the classes.\n",
    "if p_value_bartlett < 0.05:\n",
    "    print(\"The variances of classes are not equal.\")\n",
    "else:\n",
    "    print(\"The variances of classes are equal.\")\n",
    "\n",
    "# c. Determine if LDA or QDA would perform better for classification and why\n",
    "# We can compare the variances and choose the method with smaller variance\n",
    "variance_class_1 = class_1.var()\n",
    "variance_class_2 = class_2.var()\n",
    "if variance_class_1 <= variance_class_2:\n",
    "    print(\"LDA would perform better for classification.\")\n",
    "else:\n",
    "    print(\"QDA would perform better for classification.\")\n",
    "\n",
    "# d. Check the equality of mean between all the classes\n",
    "p_value_anova = stats.f_oneway(class_1, class_2).pvalue\n",
    "if p_value_anova < 0.05:\n",
    "    print(\"The means of classes are not equal.\")\n",
    "else:\n",
    "    print(\"The means of classes are equal.\")\n"
   ]
  },
  {
   "cell_type": "code",
   "execution_count": null,
   "id": "b8119e5f",
   "metadata": {},
   "outputs": [],
   "source": []
  },
  {
   "cell_type": "markdown",
   "id": "c816a59f",
   "metadata": {},
   "source": [
    "# Q-12. \n",
    "A pharmaceutical company develops a new drug and wants to compare its\n",
    "effectiveness against a standard drug for treating a particular condition. They conduct a\n",
    "study with two groups: Group A receives the new drug, and Group B receives the standard\n",
    "drug. The company measures the improvement in a specific symptom for both groups after\n",
    "a 4-week treatment period.\n",
    "\n",
    "a. The company collects data from 30 patients in each group and calculates the\n",
    "mean improvement score and the standard deviation of improvement for each\n",
    "group. The mean improvement score for Group A is 2.5 with a standard\n",
    "deviation of 0.8, while the mean improvement score for Group B is 2.2 with a\n",
    "standard deviation of 0.6. Conduct a t-test to determine if there is a significant\n",
    "difference in the mean improvement scores between the two groups. Use a\n",
    "significance level of 0.05.\n",
    "\n",
    "b. Based on the t-test results, state whether the null hypothesis should be\n",
    "rejected or not. Provide a conclusion in the context of the study."
   ]
  },
  {
   "cell_type": "code",
   "execution_count": 113,
   "id": "02120cd4",
   "metadata": {},
   "outputs": [
    {
     "name": "stdout",
     "output_type": "stream",
     "text": [
      "Test Statistic: 1.6431676725154976\n",
      "Critical Value: 2.0017174830120923\n",
      "p-value: 0.10575916705583671\n",
      "Fail to reject the null hypothesis. There is no significant difference in mean improvement scores between the two groups.\n"
     ]
    }
   ],
   "source": [
    "import scipy.stats as stats\n",
    "\n",
    "# Data for Group A\n",
    "mean_a = 2.5\n",
    "std_a = 0.8\n",
    "n_a = 30\n",
    "\n",
    "# Data for Group B\n",
    "mean_b = 2.2\n",
    "std_b = 0.6\n",
    "n_b = 30\n",
    "\n",
    "# Calculate the test statistic\n",
    "t_statistic, p_value = stats.ttest_ind_from_stats(mean_a, std_a, n_a, mean_b, std_b, n_b)\n",
    "\n",
    "# Define the significance level\n",
    "alpha = 0.05\n",
    "\n",
    "# Calculate the critical value\n",
    "df = n_a + n_b - 2\n",
    "critical_value = stats.t.ppf(1 - alpha/2, df)\n",
    "\n",
    "# Print the results\n",
    "print(\"Test Statistic:\", t_statistic)\n",
    "print(\"Critical Value:\", critical_value)\n",
    "print(\"p-value:\", p_value)\n",
    "\n",
    "# Compare the test statistic with the critical value and make a decision\n",
    "if abs(t_statistic) > critical_value:\n",
    "    print(\"Reject the null hypothesis. There is a significant difference in mean improvement scores between the two groups.\")\n",
    "else:\n",
    "    print(\"Fail to reject the null hypothesis. There is no significant difference in mean improvement scores between the two groups.\")\n"
   ]
  },
  {
   "cell_type": "code",
   "execution_count": null,
   "id": "d132f50e",
   "metadata": {},
   "outputs": [],
   "source": []
  }
 ],
 "metadata": {
  "kernelspec": {
   "display_name": "Python 3 (ipykernel)",
   "language": "python",
   "name": "python3"
  },
  "language_info": {
   "codemirror_mode": {
    "name": "ipython",
    "version": 3
   },
   "file_extension": ".py",
   "mimetype": "text/x-python",
   "name": "python",
   "nbconvert_exporter": "python",
   "pygments_lexer": "ipython3",
   "version": "3.9.13"
  }
 },
 "nbformat": 4,
 "nbformat_minor": 5
}
